{
  "cells": [
    {
      "cell_type": "markdown",
      "metadata": {
        "id": "KZuJErU0tS79"
      },
      "source": [
        "### 01 - Teste de gravidez\n",
        "Escreva uma célula com controle de fluxos que tem como premissa a existência das seguintes variáveis:\n",
        "\n",
        "- ```sexo``` como ```str``` indicando os valores '**M**' para masculino e '**F**' para feminino  \n",
        "- ```beta_hcg``` que indica a quantidade do beta-HCG no sangue em mUI/mL.\n",
        "\n",
        "A sua tarefa é escrever um código que imprima como resultado \"indivíduo do sexo masculino\" quando sexo = 'M', caso sexo = 'F', se o valor de beta-HCG for maior que 5, retorne \"Positivo\" indicando que a paciente está grávida, e retorne \"Negativo\" caso contrário.\n",
        "\n",
        "Não mexa nos valores da variável ```sexo``` nem em ```beta_hcg```, e escreva um código que funcione para quaisquer valores possíveis de ambos: ```sexo``` = '**M**' ou '**F**' e ```beta_hcg``` assumindo valores inteiros positivos."
      ]
    },
    {
      "cell_type": "code",
      "execution_count": null,
      "metadata": {
        "id": "-b6kP3YDtS8A",
        "outputId": "c7a6f479-44df-486e-8e84-a268a6368951"
      },
      "outputs": [
        {
          "name": "stdout",
          "output_type": "stream",
          "text": [
            "Você não está grávida\n"
          ]
        }
      ],
      "source": [
        "sexo = 'M'\n",
        "beta_hcg = 0\n",
        "\n",
        "# seu código vem abaixo desta linha\n",
        "if sexo == 'F' and beta_hcg > 5:\n",
        "    print(\"Você está grávida de um indivíduo do sexo feminino\")\n",
        "elif sexo == 'M' and beta_hcg > 5:\n",
        "    print(\"Você está grávida de um indivíduo do sexo masculino\")\n",
        "else:\n",
        "    print(\"Você não está grávida\")"
      ]
    },
    {
      "cell_type": "markdown",
      "metadata": {
        "id": "vl0aQoPGtS8B"
      },
      "source": [
        "### 02 - Renomeando variáveis\n",
        "\n",
        "Vamos ver adiante que uma forma de renomear variáveis de um conjunto de dados é através de dicionários - o dicionário deve conter como chave o nome original, associando a cada chave um único valor (tipo *str*) que contenha o nome novo.\n",
        "\n",
        "A sua tarefa é escrever um dicionário que possa ser utilizado para traduzir as variáveis ```name``` (nome), ```age``` (idade) e ```income``` (renda). Ou seja, esse dicionário deve relacionar as chaves *name, age* e *income* às suas respectivas traduções."
      ]
    },
    {
      "cell_type": "code",
      "execution_count": null,
      "metadata": {
        "id": "lnVeNwYEtS8B",
        "outputId": "9563d997-0792-498b-f7d0-9768b18cacee"
      },
      "outputs": [
        {
          "data": {
            "text/plain": [
              "{'name': 'nome', 'age': 'idade', 'income': 'renda'}"
            ]
          },
          "execution_count": 11,
          "metadata": {},
          "output_type": "execute_result"
        }
      ],
      "source": [
        "dic_renomeacao = {'name': 'nome', 'age': 'idade', 'income': 'renda'}\n",
        "dic_renomeacao"
      ]
    },
    {
      "cell_type": "markdown",
      "metadata": {
        "id": "jZ03vLX-tS8C"
      },
      "source": [
        "### 03 - É divisível?\n",
        "A sua tarefa é escrever um código que indique se um número ```N``` é divisível por um número P. Escreva um programa que faça essa verificação para quaisquer combinações de ```N``` e ```M``` e devolva uma mensagem indicativa no output."
      ]
    },
    {
      "cell_type": "code",
      "execution_count": null,
      "metadata": {
        "id": "dqz4RS6-tS8C",
        "outputId": "071ea015-45e5-4fd7-ab94-cd6d052f7c52"
      },
      "outputs": [
        {
          "name": "stdout",
          "output_type": "stream",
          "text": [
            "42 é divisível por 7\n"
          ]
        }
      ],
      "source": [
        "N = 42\n",
        "M = 7\n",
        "\n",
        "#Seu código\n",
        "if N % M == 0:\n",
        "    print(N, 'é divisível por', M)\n",
        "else:\n",
        "    print(N, 'não é divisível por', M)"
      ]
    },
    {
      "cell_type": "markdown",
      "metadata": {
        "id": "FE6NIyU-tS8C"
      },
      "source": [
        "### 04 - Números primos\n",
        "> Um número **N** é primo se e somente se é divisível por 1, -1, por **N** e por -**N**.  \n",
        "\n",
        "Escreva um script que verifica se ```N``` é um número primo, verificando se ```N``` é divisível por todos os números de ```1``` a ```N-1```. Você vai precisar usar alguma ferramenta de *loop* que você aprendeu para isto. No final, devolva uma mensagem no output indicando se o número é primo ou não."
      ]
    },
    {
      "cell_type": "code",
      "execution_count": null,
      "metadata": {
        "id": "Hp6LoXjZtS8D",
        "outputId": "9b916c59-3fba-4197-a29e-9285e7204eb3"
      },
      "outputs": [
        {
          "name": "stdout",
          "output_type": "stream",
          "text": [
            "47 é número primo\n"
          ]
        }
      ],
      "source": [
        "N = 47\n",
        "\n",
        "# seu código abaixo\n",
        "for i in range(2, N):\n",
        "    if N % i == 0:\n",
        "        print(N, \"não é número primo\")\n",
        "        break\n",
        "    else:\n",
        "        print(N, \"é número primo\")\n",
        "        break\n",
        "\n",
        "\n"
      ]
    },
    {
      "cell_type": "markdown",
      "metadata": {
        "id": "TboqrLNZtS8D"
      },
      "source": [
        "### 05 - Desafio\n",
        "O algorítmo do exercício anterior não é o mais eficiente. O que você pode fazer para deixá-lo mais eficiente? Ou seja, executar menos comparações, portanto consumir menos tempo.\n",
        "1. Será que precisamos correr o loop até o final sempre?\n",
        "2. Será que precisamos mesmo verificar **todos** os números?\n",
        "3. Será que precisamos ir até N-1?\n",
        "\n",
        "Essas perguntas levam ao tipo de pensamento voltado a deixar um algoritmo mais eficiente. Veja se você consegue melhorar o seu."
      ]
    },
    {
      "cell_type": "code",
      "execution_count": 1,
      "metadata": {
        "id": "Ikh3HUi7tS8D",
        "outputId": "eb7253ff-27e2-4458-ab9d-d8d57916d8a9",
        "colab": {
          "base_uri": "https://localhost:8080/"
        }
      },
      "outputs": [
        {
          "output_type": "stream",
          "name": "stdout",
          "text": [
            " Não\n"
          ]
        }
      ],
      "source": [
        "N = 98\n",
        "\n",
        "def isPrime(n) :\n",
        "    if (n <= 1) :\n",
        "        return False\n",
        "    if (n <= 3) :\n",
        "        return True\n",
        "    if (n % 2 == 0 or n % 3 == 0) :\n",
        "        return False\n",
        "    i = 5\n",
        "    while(i * i <= n) :\n",
        "        if (n % i == 0 or n % (i + 2) == 0) :\n",
        "            return False\n",
        "        i = i + 6\n",
        "    return True\n",
        "\n",
        "if (isPrime(N)):\n",
        "    print(\" Sim\")\n",
        "else:\n",
        "    print(\" Não\")"
      ]
    },
    {
      "cell_type": "markdown",
      "source": [
        "Explicando esse código, seria:\n",
        "\n",
        "1. Primeiro, verifico se N é menor ou igual a 1. Se for, retorno imediatamente False porque números menores ou iguais a 1 não são primos.\n",
        "2. Se N for menor ou igual a 3, retorno True imediatamente, já que 2 e 3 são primos. E já verifiquei anteriormente que ele não é menor que 2, então está tudo certo.\n",
        "3. Em seguida, se N for divisível por 2 ou 3 (a menos que seja o próprio 2 ou 3), então eu sei que ele não é primo. Por isso, retorno False.\n",
        "4. Agora, começo a verificar números maiores. Defino I como 5 e inicio um loop que continuará enquanto o quadrado de I for menor ou igual a N.\n",
        "5. Dentro desse loop, verifico se N é divisível por I ou I + 2. Estou fazendo isso porque todos os números primos maiores que 3 podem ser escritos como 6K±1 para algum valor de K. Assim, estou otimizando a verificação, evitando muitos números que não seriam primos.\n",
        "6. Depois de verificar I e I + 2, adiciono I em 6, porque só preciso verificar os números na forma 6K±1."
      ],
      "metadata": {
        "id": "Rio5j7mjwPns"
      }
    },
    {
      "cell_type": "markdown",
      "metadata": {
        "id": "RHI6z9hOtS8E"
      },
      "source": [
        "### 06 - Peso ideal 1\n",
        "O IMC (índice de massa corpórea) é um indicador de saúde mais bem aceito que o peso. Ele é calculado como:\n",
        "\n",
        "$$ IMC = \\dfrac{peso}{altura^2}$$\n",
        "\n",
        "Segundo a OMS, valores *normais* são entre 18.5 e 24.9.\n",
        "\n",
        "Sua tarefa é encontrar o ponto médio dessa faixa."
      ]
    },
    {
      "cell_type": "code",
      "execution_count": null,
      "metadata": {
        "id": "cAc6P0patS8E",
        "outputId": "91536454-aa09-4b57-8c46-50f034cacf18"
      },
      "outputs": [
        {
          "data": {
            "text/plain": [
              "21.7"
            ]
          },
          "execution_count": 1,
          "metadata": {},
          "output_type": "execute_result"
        }
      ],
      "source": [
        "imc_ideal = (24.9 + 18.5) / 2\n",
        "imc_ideal"
      ]
    },
    {
      "cell_type": "markdown",
      "metadata": {
        "id": "-gsrsVLgtS8E"
      },
      "source": [
        "### 07 - Peso ideal 2\n",
        "Recebendo um valor de altura, encontre o peso '*ideal*' dessa pessoa, que fornece o IMC encontrado acima"
      ]
    },
    {
      "cell_type": "code",
      "execution_count": null,
      "metadata": {
        "id": "54d8T9PqtS8E",
        "outputId": "1b9748d2-78c9-4555-a922-7fc4ec03dff4"
      },
      "outputs": [
        {
          "data": {
            "text/plain": [
              "62.712999999999994"
            ]
          },
          "execution_count": 2,
          "metadata": {},
          "output_type": "execute_result"
        }
      ],
      "source": [
        "altura = 1.70\n",
        "\n",
        "# Seu código\n",
        "peso_ideal = (1.7 ** 2) * 21.7\n",
        "peso_ideal"
      ]
    },
    {
      "cell_type": "markdown",
      "metadata": {
        "id": "XFYam-FitS8E"
      },
      "source": [
        "### 08 - Peso ideal 3\n",
        "Dada uma lista contendo as alturas de pacientes, crie uma nova lista que contenha o peso '*ideal*' (que fornece o IMC calculado em **Peso ideal 1**) desses pacientes."
      ]
    },
    {
      "cell_type": "code",
      "execution_count": null,
      "metadata": {
        "id": "NL1tB88wtS8E",
        "outputId": "32f8da28-6e1a-4e35-b14a-b79c3a3b5c6f"
      },
      "outputs": [
        {
          "data": {
            "text/plain": [
              "[82.51424999999999, 91.19425, 62.712999999999994, 59.07824999999999]"
            ]
          },
          "execution_count": 3,
          "metadata": {},
          "output_type": "execute_result"
        }
      ],
      "source": [
        "lista_alturas = [1.95, 2.05, 1.70, 1.65]\n",
        "\n",
        "lista_peso_ideal = []\n",
        "\n",
        "# seu código\n",
        "for altura in lista_alturas:\n",
        "    peso_ideal = (altura ** 2) * 21.7\n",
        "    lista_peso_ideal.append(peso_ideal)\n",
        "\n",
        "lista_peso_ideal"
      ]
    },
    {
      "cell_type": "markdown",
      "metadata": {
        "id": "1VWhWw0LtS8F"
      },
      "source": [
        "### 09 - Peso ideal 4\n",
        "Dada uma lista de tuplas - cada elemento da lista é uma tupla contendo altura e peso de um paciente - crie uma nova lista com o IMC desses pacientes."
      ]
    },
    {
      "cell_type": "code",
      "execution_count": null,
      "metadata": {
        "id": "2M8H2EhAtS8F",
        "outputId": "5363d87b-f3f0-4a02-bda8-a06ebec29f8c"
      },
      "outputs": [
        {
          "data": {
            "text/plain": [
              "[27.777777777777775, 27.548209366391188, 19.188070502453332]"
            ]
          },
          "execution_count": 4,
          "metadata": {},
          "output_type": "execute_result"
        }
      ],
      "source": [
        "altura_peso = [(1.80, 90), (1.65, 75), (1.91, 70)]\n",
        "\n",
        "imc = []\n",
        "\n",
        "# seu código\n",
        "for i in altura_peso:\n",
        "    a, b = i\n",
        "    imc_individuo = b / a ** 2\n",
        "    imc.append(imc_individuo)\n",
        "\n",
        "imc"
      ]
    },
    {
      "cell_type": "markdown",
      "metadata": {
        "id": "xFnMQIkbtS8F"
      },
      "source": [
        "### 10 - Peso ideal 5\n",
        "Dada uma lista de **listas** - cada elemento da lista é uma **lista** contendo altura e peso de um paciente, adicione mais um elemento à lista de cada paciente contendo o IMC do paciente. Verifique também se é 'baixo', 'normal' ou 'alto' segundo os padrões da OMS em que normal é entre 18.5 e 24.9.\n",
        "\n",
        "Reflexão: por que no problema anterior temos que criar uma nova lista, e não podemos adicionar os dados de cada indivíduo à tupla?"
      ]
    },
    {
      "cell_type": "code",
      "execution_count": null,
      "metadata": {
        "id": "3fPz6yTEtS8F",
        "outputId": "896dac2d-3988-4e13-e314-f5b1aab789f0",
        "colab": {
          "base_uri": "https://localhost:8080/"
        }
      },
      "outputs": [
        {
          "output_type": "execute_result",
          "data": {
            "text/plain": [
              "[[1.8, 90, 27.777777777777775, 'alto'],\n",
              " [1.65, 75, 27.548209366391188, 'alto'],\n",
              " [1.91, 70, 19.188070502453332, 'normal']]"
            ]
          },
          "metadata": {},
          "execution_count": 1
        }
      ],
      "source": [
        "altura_peso = [[1.80, 90], [1.65, 75], [1.91, 70]]\n",
        "\n",
        "# seu código\n",
        "\n",
        "for i in altura_peso:\n",
        "    a, b = i\n",
        "    imc_individuo = b / a ** 2\n",
        "    if imc_individuo > 24.9:\n",
        "        d = 'alto'\n",
        "    elif imc_individuo < 18.5:\n",
        "        d = 'baixo'\n",
        "    else:\n",
        "        d = 'normal'\n",
        "    i.append(imc_individuo)\n",
        "    i.append(d)\n",
        "\n",
        "altura_peso"
      ]
    },
    {
      "cell_type": "code",
      "execution_count": null,
      "metadata": {
        "id": "EWWauRPgtS8F"
      },
      "outputs": [],
      "source": []
    }
  ],
  "metadata": {
    "kernelspec": {
      "display_name": "Python 3 (ipykernel)",
      "language": "python",
      "name": "python3"
    },
    "language_info": {
      "codemirror_mode": {
        "name": "ipython",
        "version": 3
      },
      "file_extension": ".py",
      "mimetype": "text/x-python",
      "name": "python",
      "nbconvert_exporter": "python",
      "pygments_lexer": "ipython3",
      "version": "3.11.4"
    },
    "colab": {
      "provenance": []
    }
  },
  "nbformat": 4,
  "nbformat_minor": 0
}