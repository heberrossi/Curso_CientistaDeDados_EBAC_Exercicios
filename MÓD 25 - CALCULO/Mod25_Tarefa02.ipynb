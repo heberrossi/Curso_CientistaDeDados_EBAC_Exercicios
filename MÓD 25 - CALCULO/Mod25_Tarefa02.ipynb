{
  "cells": [
    {
      "cell_type": "markdown",
      "metadata": {
        "id": "szBM_O1kjgs-"
      },
      "source": [
        "[![ebac_logo-data_science.png](https://raw.githubusercontent.com/rhatiro/Curso_EBAC-Profissao_Cientista_de_Dados/main/ebac-course-utils/media/logo/ebac_logo-data_science.png)](https://github.com/rhatiro/Curso_EBAC-Profissao_Cientista_de_Dados)\n",
        "<!-- <img src=\"https://raw.githubusercontent.com/rhatiro/Curso_EBAC-Profissao_Cientista_de_Dados/main/ebac-course-utils/media/logo/ebac_logo-data_science.png\" alt=\"ebac_logo-data_science\"> -->\n",
        "\n"
      ]
    },
    {
      "cell_type": "markdown",
      "metadata": {
        "id": "tp6jB266jgtB"
      },
      "source": [
        "# Cálculo - Tarefa 02"
      ]
    },
    {
      "cell_type": "markdown",
      "metadata": {
        "id": "vfmoif9xjgtB"
      },
      "source": [
        "### 1. Calcule de forma numérica a integral da função $x^3$ avaliada entre os pontos $1$ e $2$. Identifique o número de retângulos que você usou."
      ]
    },
    {
      "cell_type": "code",
      "execution_count": 11,
      "metadata": {
        "id": "F7Fe2SOKjgtC"
      },
      "outputs": [],
      "source": [
        "import numpy as np"
      ]
    },
    {
      "cell_type": "code",
      "execution_count": 12,
      "metadata": {
        "id": "EgxOa4vUjgtC"
      },
      "outputs": [],
      "source": [
        "f = lambda x: x**3"
      ]
    },
    {
      "cell_type": "code",
      "execution_count": 28,
      "metadata": {
        "id": "i8VEJjuejgtD"
      },
      "outputs": [],
      "source": [
        "def calcular_area(a, b, func, frame_num):\n",
        "    num_bins=frame_num+1\n",
        "    delta = (b - a) / num_bins\n",
        "    x_cols = np.linspace(a, b - delta, num_bins) + delta / 2\n",
        "    y_cols = func(x_cols)\n",
        "\n",
        "    print(f'Número de retângulos = {num_bins}')\n",
        "    print(f'Delta = {delta}')\n",
        "\n",
        "    return sum(delta * y_cols)"
      ]
    },
    {
      "cell_type": "code",
      "execution_count": 29,
      "metadata": {
        "colab": {
          "base_uri": "https://localhost:8080/"
        },
        "id": "IJ2BaRB8jgtD",
        "outputId": "29db9509-3083-4221-eb39-b33e17eb53bd"
      },
      "outputs": [
        {
          "output_type": "stream",
          "name": "stdout",
          "text": [
            "Número de retângulos = 4\n",
            "Delta = 0.25\n"
          ]
        },
        {
          "output_type": "execute_result",
          "data": {
            "text/plain": [
              "3.7265625"
            ]
          },
          "metadata": {},
          "execution_count": 29
        }
      ],
      "source": [
        "calcular_area(a=1, b=2, func=f, frame_num=3)"
      ]
    },
    {
      "cell_type": "code",
      "execution_count": 30,
      "metadata": {
        "colab": {
          "base_uri": "https://localhost:8080/"
        },
        "id": "5Mf_PVv8jgtE",
        "outputId": "3b7beb09-9571-49f8-f87e-bc0d52f41cc6"
      },
      "outputs": [
        {
          "output_type": "stream",
          "name": "stdout",
          "text": [
            "Número de retângulos = 8\n",
            "Delta = 0.125\n"
          ]
        },
        {
          "output_type": "execute_result",
          "data": {
            "text/plain": [
              "3.744140625"
            ]
          },
          "metadata": {},
          "execution_count": 30
        }
      ],
      "source": [
        "calcular_area(a=1, b=2, func=f, frame_num=99)"
      ]
    },
    {
      "cell_type": "markdown",
      "metadata": {
        "id": "xhysLd0AjgtF"
      },
      "source": [
        "### 2. Calcule essa área de forma analítica."
      ]
    },
    {
      "cell_type": "markdown",
      "metadata": {
        "id": "qUOURcVKjgtF"
      },
      "source": [
        "$$\\int_{a}^{b} f(x) dx = F(b) - F(a)$$\n",
        "\n",
        "$$ f(x) = x^3 \\rightarrow F(x) = \\frac{1}{4} * x^4 + C,$$\n",
        "\n",
        "$$\\int_{1}^{2} x^3 dx = F(2) - F(1) = \\left(\\frac{1}{4} * 2^4\\right) - \\left(\\frac{1}{4} * 1^4\\right) = \\frac{16}{4} - \\frac{1}{4} = \\frac{15}{4} = \\textbf{3.75}$$"
      ]
    },
    {
      "cell_type": "markdown",
      "metadata": {
        "id": "bxF-UbzbjgtG"
      },
      "source": [
        "---"
      ]
    }
  ],
  "metadata": {
    "kernelspec": {
      "display_name": "Python 3 (ipykernel)",
      "language": "python",
      "name": "python3"
    },
    "language_info": {
      "codemirror_mode": {
        "name": "ipython",
        "version": 3
      },
      "file_extension": ".py",
      "mimetype": "text/x-python",
      "name": "python",
      "nbconvert_exporter": "python",
      "pygments_lexer": "ipython3",
      "version": "3.9.13"
    },
    "toc": {
      "base_numbering": 1,
      "nav_menu": {},
      "number_sections": true,
      "sideBar": true,
      "skip_h1_title": true,
      "title_cell": "Índice",
      "title_sidebar": "Conteúdo",
      "toc_cell": false,
      "toc_position": {},
      "toc_section_display": true,
      "toc_window_display": false
    },
    "varInspector": {
      "cols": {
        "lenName": 16,
        "lenType": 16,
        "lenVar": 40
      },
      "kernels_config": {
        "python": {
          "delete_cmd_postfix": "",
          "delete_cmd_prefix": "del ",
          "library": "var_list.py",
          "varRefreshCmd": "print(var_dic_list())"
        },
        "r": {
          "delete_cmd_postfix": ") ",
          "delete_cmd_prefix": "rm(",
          "library": "var_list.r",
          "varRefreshCmd": "cat(var_dic_list()) "
        }
      },
      "types_to_exclude": [
        "module",
        "function",
        "builtin_function_or_method",
        "instance",
        "_Feature"
      ],
      "window_display": false
    },
    "colab": {
      "provenance": []
    }
  },
  "nbformat": 4,
  "nbformat_minor": 0
}