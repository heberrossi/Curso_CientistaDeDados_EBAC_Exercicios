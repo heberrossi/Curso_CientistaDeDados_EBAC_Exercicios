{
  "cells": [
    {
      "cell_type": "markdown",
      "metadata": {
        "id": "oDhT2T_BJGaX"
      },
      "source": [
        "## Cálculo - Tarefa 01\n",
        "\n",
        "1. **Marque quais desses métodos/algoritmos muito populares em ciência de dados são baseados no uso de derivada:**\n",
        "\n",
        "    1. **Método Mínimos Quadrados**\n",
        "    2. **Gradiente descendente**\n",
        "    3. **Newton Raphson**\n",
        "    4. **CART (Árvore de decisão)**"
      ]
    },
    {
      "cell_type": "markdown",
      "source": [
        ">1. Método dos Mínimos Quadrados:\n",
        "\n",
        " > Não é diretamente baseado no uso de derivadas. No entanto, utiliza conceitos de álgebra linear e técnicas de otimização para resolver numericamente o problema de minimização da soma dos quadrados das diferenças entre os valores observados e preditos pela linha de ajuste.\n",
        "\n",
        ">2. Gradiente Descendente:\n",
        "\n",
        " >O gradiente descendente é um método de otimização que depende fortemente do cálculo de derivadas para encontrar o mínimo de uma função de custo. Ele utiliza a direção e a magnitude do gradiente (derivada da função de custo) para atualizar iterativamente os parâmetros do modelo até alcançar a convergência.\n",
        "\n",
        ">3. Newton-Raphson:\n",
        "\n",
        "  >O método de Newton-Raphson é um método iterativo para encontrar raízes de equações e é baseado na utilização das derivadas da função para guiar a busca pelo zero da função.\n",
        "\n",
        ">4. CART (Árvore de Decisão):\n",
        "\n",
        "  >Não é diretamente baseado no uso de derivadas. São baseadas principalmente na lógica de divisão recursiva do conjunto de dados com base em características específicas."
      ],
      "metadata": {
        "id": "NORthzx4JsWX"
      }
    },
    {
      "cell_type": "code",
      "source": [],
      "metadata": {
        "id": "OdVvClUuMz4-"
      },
      "execution_count": null,
      "outputs": []
    },
    {
      "cell_type": "markdown",
      "metadata": {
        "id": "HvHG1CEeJGaa"
      },
      "source": [
        "2. **Dada uma base de dados com uma variável resposta $y$ e um conjunto de variáveis explicativas. Considere uma estrutura de um modelo de regressão. Explique com suas palavras por que não é possível obter parâmetros que forneçam um erro quadrático médio (EQM) menor que o obtido com estimadores de mínimos quadrados.**"
      ]
    },
    {
      "cell_type": "markdown",
      "source": [
        "\n",
        ">O Método dos Mínimos Quadrados (MMQ) é projetado para encontrar os coeficientes de um modelo de regressão que minimizam a soma dos quadrados das diferenças entre os valores observados e os valores preditos pelo modelo. Isso significa que, os coeficientes resultantes do MMQ são os melhores em termos de ajuste aos dados disponíveis. Pot isso, não é possível obter um EQM menor do que o obtido com os estimadores de mínimos quadrados é porque o MMQ já encontrou os coeficientes que melhor se ajustam aos dados."
      ],
      "metadata": {
        "id": "Z7j-wR_FLw3j"
      }
    },
    {
      "cell_type": "code",
      "execution_count": null,
      "metadata": {
        "id": "MPCxLztrJGaa"
      },
      "outputs": [],
      "source": []
    }
  ],
  "metadata": {
    "kernelspec": {
      "display_name": "Python 3",
      "language": "python",
      "name": "python3"
    },
    "language_info": {
      "codemirror_mode": {
        "name": "ipython",
        "version": 3
      },
      "file_extension": ".py",
      "mimetype": "text/x-python",
      "name": "python",
      "nbconvert_exporter": "python",
      "pygments_lexer": "ipython3",
      "version": "3.8.5"
    },
    "toc": {
      "base_numbering": 1,
      "nav_menu": {},
      "number_sections": true,
      "sideBar": true,
      "skip_h1_title": true,
      "title_cell": "Índice",
      "title_sidebar": "Conteúdo",
      "toc_cell": false,
      "toc_position": {},
      "toc_section_display": true,
      "toc_window_display": false
    },
    "varInspector": {
      "cols": {
        "lenName": 16,
        "lenType": 16,
        "lenVar": 40
      },
      "kernels_config": {
        "python": {
          "delete_cmd_postfix": "",
          "delete_cmd_prefix": "del ",
          "library": "var_list.py",
          "varRefreshCmd": "print(var_dic_list())"
        },
        "r": {
          "delete_cmd_postfix": ") ",
          "delete_cmd_prefix": "rm(",
          "library": "var_list.r",
          "varRefreshCmd": "cat(var_dic_list()) "
        }
      },
      "types_to_exclude": [
        "module",
        "function",
        "builtin_function_or_method",
        "instance",
        "_Feature"
      ],
      "window_display": false
    },
    "colab": {
      "provenance": []
    }
  },
  "nbformat": 4,
  "nbformat_minor": 0
}