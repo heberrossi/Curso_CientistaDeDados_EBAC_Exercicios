{
  "cells": [
    {
      "cell_type": "markdown",
      "id": "166f6f33-c507-4fc6-9ebd-9986eb51ea53",
      "metadata": {
        "id": "166f6f33-c507-4fc6-9ebd-9986eb51ea53"
      },
      "source": [
        "[![ebac_logo-data_science.png](https://raw.githubusercontent.com/rhatiro/Curso_EBAC-Profissao_Cientista_de_Dados/main/ebac-course-utils/media/logo/ebac_logo-data_science.png)](https://github.com/rhatiro/Curso_EBAC-Profissao_Cientista_de_Dados)\n",
        "<!-- <img src=\"https://raw.githubusercontent.com/rhatiro/Curso_EBAC-Profissao_Cientista_de_Dados/main/ebac-course-utils/media/logo/ebac_logo-data_science.png\" alt=\"ebac_logo-data_science\"> -->\n",
        "\n",
        "---\n",
        "\n",
        "<!-- # **Profissão: Cientista de Dados** -->\n",
        "### **Módulo 23** | Combinação de modelos I | Exercício 2\n",
        "\n",
        "---"
      ]
    },
    {
      "cell_type": "markdown",
      "id": "7bb6a816-ff6f-403b-8622-0ca33cea960b",
      "metadata": {
        "id": "7bb6a816-ff6f-403b-8622-0ca33cea960b"
      },
      "source": [
        "# Tarefa 03"
      ]
    },
    {
      "cell_type": "markdown",
      "id": "b01af968-8131-4047-936f-ee55315b09a4",
      "metadata": {
        "id": "b01af968-8131-4047-936f-ee55315b09a4"
      },
      "source": [
        "**1.** Quais são os hyperparâmetros do RF?"
      ]
    },
    {
      "cell_type": "markdown",
      "id": "527cc51a-cdf8-44ae-b8d8-93ebce1009e1",
      "metadata": {
        "id": "527cc51a-cdf8-44ae-b8d8-93ebce1009e1"
      },
      "source": [
        "\n",
        "\n",
        "*  n_estimators\n",
        "*  criterion\n",
        "*  max_depth\n",
        "*  min_samples_split\n",
        "*  min_samples_leaf\n",
        "*  min_weight_fraction_leaf\n",
        "*  max_features\n",
        "*  max_leaf_nodes\n",
        "*  min_impurity_decrease\n",
        "*  bootstrap\n",
        "*  oob_score\n",
        "*  n_jobs\n",
        "*  random_state\n",
        "*  verbose\n",
        "*  warm_start\n",
        "*  class_weight\n",
        "*  ccp_alpha\n",
        "*  max_samples\n",
        "*  monotonic_cst\n",
        "\n",
        "\n",
        "\n",
        "\n",
        "\n",
        "\n",
        "\n",
        "\n"
      ]
    },
    {
      "cell_type": "markdown",
      "id": "805122b5-5f98-4013-bac2-d36ed341325c",
      "metadata": {
        "id": "805122b5-5f98-4013-bac2-d36ed341325c"
      },
      "source": [
        "**2.** Explique cada um deles"
      ]
    },
    {
      "cell_type": "markdown",
      "id": "0be7b205-08c5-45a8-a29e-45e1c9baf2b5",
      "metadata": {
        "id": "0be7b205-08c5-45a8-a29e-45e1c9baf2b5"
      },
      "source": [
        "\n",
        "*  n_estimators: O número de árvores de decisão no modelo\n",
        "\n",
        "*  criterion: A função para medir a qualidade de uma divisão da árvore.\n",
        "\n",
        "*  max_depth: definir a profundidade máxima da árvore\n",
        "\n",
        "*  min_samples_split: O número mínimo de amostras necessárias para dividir um nó da árvore\n",
        "\n",
        "*  min_samples_leaf:  Número mínimo de amostras necessárias para formar uma folha (nó terminal) na árvore de decisão durante o processo de divisão.\n",
        "\n",
        "*  min_weight_fraction_leaf: Número mínimo de pesos de amostra necessários para formar uma folha (nó terminal) na árvore de decisão durante o processo de divisão.\n",
        "\n",
        "*  max_features: O número de variáveis a serem consideradas ao procurar a melhor divisão\n",
        "\n",
        "*  max_leaf_nodes: Número máximo de nós folha (terminais) que a árvore de decisão pode ter durante o processo de construção.\n",
        "\n",
        "*  min_impurity_decrease: quantidade mínima de redução na impureza que uma divisão deve fornecer para que a divisão seja considerada durante a construção da árvore de decisão.\n",
        "\n",
        "*  bootstrap: Define se as amostras de bootstrap são usadas ao construir árvores. Se for falso, todo o conjunto de dados será usado para construir cada árvore.\n",
        "\n",
        "*  oob_score: Controla se o score do modelo deve ser calculado usando amostras out-of-bag durante o treinamento do modelo Random Forest.\n",
        "\n",
        "*  n_jobs: O número de trabalhos que podem ser executados em paralelo.\n",
        "\n",
        "*  random_state: Controla tanto a aleatoriedade do bootstrap das amostras usadas na construção de árvores quanto a amostragem dos recursos a serem considerados ao procurar a melhor divisão em cada nó\n",
        "\n",
        "*  verbose: Controla o nível de detalhes das mensagens de progresso ou informações de depuração durante o treinamento do modelo.\n",
        "\n",
        "*  warm_start: Permite reutilizar a solução da chamada anterior para ajustar e adicionar mais estimadores ao conjunto, caso contrário, ajusta uma floresta totalmente nova.\n",
        "\n",
        "*  class_weight: Lida com conjuntos de dados desbalanceados, atribuindo pesos diferentes às classes alvo durante o treinamento do modelo. Isso pode ajudar a equilibrar a influência das classes e melhorar o desempenho do modelo em problemas de classificação com classes desbalanceadas.\n",
        "\n",
        "*  ccp_alpha: Controla a complexidade da árvore de decisão através da poda pós-poda por custo-complexidade (Cost-Complexity Pruning), também conhecida como poda por caminho mínimo.\n",
        "\n",
        "*  max_samples: Controla o número de amostras que serão utilizadas para treinar cada estimador individual.\n",
        "\n",
        "*  monotonic_cst: Impõe que a relação entre uma variável de entrada e a variável de saída seja sempre crescente ou decrescente.\n"
      ]
    },
    {
      "cell_type": "markdown",
      "id": "7afea5b5-6bed-4c12-adf1-988ce95e0db1",
      "metadata": {
        "id": "7afea5b5-6bed-4c12-adf1-988ce95e0db1"
      },
      "source": [
        "---"
      ]
    }
  ],
  "metadata": {
    "kernelspec": {
      "display_name": "Python 3 (ipykernel)",
      "language": "python",
      "name": "python3"
    },
    "language_info": {
      "codemirror_mode": {
        "name": "ipython",
        "version": 3
      },
      "file_extension": ".py",
      "mimetype": "text/x-python",
      "name": "python",
      "nbconvert_exporter": "python",
      "pygments_lexer": "ipython3",
      "version": "3.9.13"
    },
    "colab": {
      "provenance": []
    }
  },
  "nbformat": 4,
  "nbformat_minor": 5
}