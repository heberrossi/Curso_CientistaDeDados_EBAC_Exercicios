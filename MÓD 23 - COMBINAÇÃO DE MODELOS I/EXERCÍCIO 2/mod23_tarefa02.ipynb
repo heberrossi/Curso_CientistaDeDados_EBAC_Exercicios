{
  "cells": [
    {
      "cell_type": "markdown",
      "id": "166f6f33-c507-4fc6-9ebd-9986eb51ea53",
      "metadata": {
        "id": "166f6f33-c507-4fc6-9ebd-9986eb51ea53"
      },
      "source": [
        "[![ebac_logo-data_science.png](https://raw.githubusercontent.com/rhatiro/Curso_EBAC-Profissao_Cientista_de_Dados/main/ebac-course-utils/media/logo/ebac_logo-data_science.png)](https://github.com/rhatiro/Curso_EBAC-Profissao_Cientista_de_Dados)\n",
        "<!-- <img src=\"https://raw.githubusercontent.com/rhatiro/Curso_EBAC-Profissao_Cientista_de_Dados/main/ebac-course-utils/media/logo/ebac_logo-data_science.png\" alt=\"ebac_logo-data_science\"> -->\n",
        "\n",
        "---\n",
        "\n",
        "<!-- # **Profissão: Cientista de Dados** -->\n",
        "### **Módulo 23** | Combinação de modelos I | Exercício 2\n",
        "\n",
        "---"
      ]
    },
    {
      "cell_type": "markdown",
      "id": "7bb6a816-ff6f-403b-8622-0ca33cea960b",
      "metadata": {
        "id": "7bb6a816-ff6f-403b-8622-0ca33cea960b"
      },
      "source": [
        "# Tarefa 02"
      ]
    },
    {
      "cell_type": "markdown",
      "id": "b01af968-8131-4047-936f-ee55315b09a4",
      "metadata": {
        "id": "b01af968-8131-4047-936f-ee55315b09a4"
      },
      "source": [
        "**1.** Monte um passo a passo para o algoritmo RF"
      ]
    },
    {
      "cell_type": "markdown",
      "id": "527cc51a-cdf8-44ae-b8d8-93ebce1009e1",
      "metadata": {
        "id": "527cc51a-cdf8-44ae-b8d8-93ebce1009e1"
      },
      "source": [
        "> Passo 1. ***Bootstrap + Feature Selection:***  *Random Forest* cria amostras aleatórias por meio da amostragem de reposição do conjunto a partir do conjunto de dados original (bootstrap). No entanto, apenas um subconjunto aleatório de variáveis é selecionado (*feature selection*) para cada nova amostragem. No caso de problemas de classificação, utiliza a raiz quadrada do número total de variáveis (colunas), enquanto em problemas de regressão, um terço das variáveis é utilizado.\n",
        "\n",
        "> Passo 2. **Modelagem com árvores de decisão:** Nesta etapa, são criadas arvores de decisão para cada amostragem criada anteriormente, e são treinadas de forma independente.\n",
        "\n",
        "> Passo 3. **Agregação:** Os resultados de cada modelo independente (cada árvore de decisão) são agregados para obter um resultado final que é decidido ou pela maior frequência dos votos dos resultados em problemas de classificação, ou pela média das previsões para problemas de regressão"
      ]
    },
    {
      "cell_type": "markdown",
      "id": "805122b5-5f98-4013-bac2-d36ed341325c",
      "metadata": {
        "id": "805122b5-5f98-4013-bac2-d36ed341325c"
      },
      "source": [
        "**2.** Explique com suas palavras o Random Forest"
      ]
    },
    {
      "cell_type": "markdown",
      "id": "0be7b205-08c5-45a8-a29e-45e1c9baf2b5",
      "metadata": {
        "id": "0be7b205-08c5-45a8-a29e-45e1c9baf2b5"
      },
      "source": [
        "> Random Forest é um algoritmo de aprendizado de máquina que pertence à categoria de métodos ensemble, baseado em árvores de decisão. Ele é projetado para melhorar a precisão e a robustez dos modelos de aprendizado de máquina, combinando múltiplas árvores de decisão durante o treinamento e a previsão.\n",
        "\n",
        "> A ideia principal por trás do Random Forest é criar um grande número de árvores de decisão independentes a combinar suas previsões para obter uma previsão final. Cada árvore de decisão é treinada em uma amostra aleatória, obtida a partir do conjunto de dados original, utilizando a técnica *boostrap + feature selection*. A diferença dela para *bootstrap* é que utiliza apenas um determinado número de variáveis (colunas) do dado original, mantendo o número original de linhas. E por fim, o resultado final é decidido pela maioria das votações para problemas de classificação, ou a média das previsões, para problemas de regressão."
      ]
    },
    {
      "cell_type": "markdown",
      "id": "5a54f311-a631-4d9c-a2e0-92064484db82",
      "metadata": {
        "id": "5a54f311-a631-4d9c-a2e0-92064484db82"
      },
      "source": [
        "**3.** Qual a diferença entre Bagging e Random Forest?"
      ]
    },
    {
      "cell_type": "markdown",
      "id": "5dd86441-282d-434f-8a6c-c84f668a7a31",
      "metadata": {
        "id": "5dd86441-282d-434f-8a6c-c84f668a7a31"
      },
      "source": [
        "> A diferença entre *Bagging* e *Random Forest* está em criar um modelo final mais robusto e preciso. *Bagging* envolve a criação de múltiplos conjuntos de dados de treinamento através da amostragem com reposição (bootstrap) e o treinamento de um modelo base em cada conjunto de dados, enquanto *Random Forest* é uma técnica específica de ensemble learning que utiliza a técnica de bagging em conjunto com árvores de decisão.\n",
        "\n",
        " > No *Bagging*, cada modelo é treinado em subconjuntos aleatórios do conjunto de dados original, onde as novas amostras tem o mesmo tamanho das originais. Já no *Random Forest*, as novas amostras são de tamanho reduzido, pois utiliza-se número reduzido de variáveis (colunas) dos dados originais.\n",
        "\n",
        " > Essa abordagem aumenta a robustez do modelo e a precisão. Por conta da amostragem e criação de árvores descorrelacionadas, a variância é baixa e com isso evita o overfitting. Por isso, o *Random Forest* funciona melhor que o *Bagging*, pois as árvores amostradas são mais independentes (menor correlação)."
      ]
    },
    {
      "cell_type": "markdown",
      "id": "7afea5b5-6bed-4c12-adf1-988ce95e0db1",
      "metadata": {
        "id": "7afea5b5-6bed-4c12-adf1-988ce95e0db1"
      },
      "source": [
        "---"
      ]
    }
  ],
  "metadata": {
    "kernelspec": {
      "display_name": "Python 3 (ipykernel)",
      "language": "python",
      "name": "python3"
    },
    "language_info": {
      "codemirror_mode": {
        "name": "ipython",
        "version": 3
      },
      "file_extension": ".py",
      "mimetype": "text/x-python",
      "name": "python",
      "nbconvert_exporter": "python",
      "pygments_lexer": "ipython3",
      "version": "3.9.13"
    },
    "colab": {
      "provenance": []
    }
  },
  "nbformat": 4,
  "nbformat_minor": 5
}