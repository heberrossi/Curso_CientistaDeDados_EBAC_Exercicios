{
  "cells": [
    {
      "cell_type": "markdown",
      "metadata": {
        "id": "sjvoikjwU44R"
      },
      "source": [
        "![logo](https://github.com/heberrossi/Curso_CientistaDeDados_EBAC_Exercicios/blob/main/logo/ebac_logo-data_science.png?raw=true)\n",
        "\n",
        "\n",
        "# Tarefa I"
      ]
    },
    {
      "cell_type": "markdown",
      "metadata": {
        "id": "4AUN2YNRU44U"
      },
      "source": [
        "1. Qual a principal diferença entre um *behaviour score* e um *credit score*?"
      ]
    },
    {
      "cell_type": "markdown",
      "metadata": {
        "id": "7nKw2z_DU44U"
      },
      "source": [
        "Um behaviour score (pontuação comportamental) e um credit score (pontuação de crédito) são ambos utilizados para avaliar a probabilidade de um indivíduo cumprir suas obrigações financeiras, mas eles diferem em termos de foco e dados utilizados.\n",
        "\n",
        "O behaviour score foca no comportamento financeiro recente e atual de um indivíduo. Ele avalia como uma pessoa está gerenciando suas contas e obrigações financeiras no momento.\n",
        "\n",
        "O credit score é uma medida mais ampla do risco de crédito de um indivíduo. Ele avalia a capacidade geral de uma pessoa cumprir suas obrigações de crédito com base em seu histórico financeiro."
      ]
    },
    {
      "cell_type": "markdown",
      "metadata": {
        "id": "gZKykHCiU44V"
      },
      "source": [
        "2. Por que é tão comum se estabelecer janelas de desempenho de 12 meses, e 12 safras para o desenvolvimento de modelos?"
      ]
    },
    {
      "cell_type": "markdown",
      "metadata": {
        "id": "0NUMj80sU44V"
      },
      "source": [
        "De modo a eliminar efeitos de sazonalidade, é comum utilizar um múltiplo de 12 para a janela de performance, e ainda assim, contratos amostrados em 12 safras. Não é comum se modelar sazonalidade na inadimplência. Essa prática fornece uma base sólida para a análise e modelagem de risco de crédito, garantindo que os modelos desenvolvidos sejam robustos, estáveis e úteis em diferentes condições econômicas e ao longo do tempo."
      ]
    },
    {
      "cell_type": "markdown",
      "metadata": {
        "id": "KtBD58nGU44V"
      },
      "source": [
        "3. Qual a diferença entre amostra *out of time* e amostra *out of sample*?"
      ]
    },
    {
      "cell_type": "markdown",
      "metadata": {
        "id": "k0c2P9f_U44W"
      },
      "source": [
        "A amostra \"out of sample\" refere-se a um conjunto de dados que não foi usado para treinar o modelo. É um subconjunto dos dados disponíveis que é separado antes do treinamento e usado exclusivamente para testar a performance do modelo.\n",
        "\n",
        "A amostra \"out of time\" refere-se a um conjunto de dados que foi coletado em um período de tempo diferente daquele usado para treinar o modelo. Isso ajuda a testar a capacidade do modelo de generalizar para dados futuros ou dados de um período temporal diferente."
      ]
    },
    {
      "cell_type": "markdown",
      "metadata": {
        "id": "nPaLb23AU44W"
      },
      "source": [
        "4. Se os dados da variavel resposta estão sistematicamente corrompidos para duas das safras de desenvolvimento, o que você faria?"
      ]
    },
    {
      "cell_type": "markdown",
      "metadata": {
        "id": "96PxmOFoU44X"
      },
      "source": [
        "Entender por que os dados da variável resposta estão corrompidos. Pode ser um problema de coleta de dados, erros de entrada, falhas no sistema, etc. Avaliar o quanto os dados corrompidos afetam a qualidade dos dados e a análise. E então decidir se os dados podem ser corrigidos ou se devem ser excluídos.\n"
      ]
    }
  ],
  "metadata": {
    "kernelspec": {
      "display_name": "Python 3",
      "language": "python",
      "name": "python3"
    },
    "language_info": {
      "codemirror_mode": {
        "name": "ipython",
        "version": 3
      },
      "file_extension": ".py",
      "mimetype": "text/x-python",
      "name": "python",
      "nbconvert_exporter": "python",
      "pygments_lexer": "ipython3",
      "version": "3.8.5"
    },
    "toc": {
      "base_numbering": 1,
      "nav_menu": {},
      "number_sections": false,
      "sideBar": true,
      "skip_h1_title": true,
      "title_cell": "Índice",
      "title_sidebar": "Conteúdo",
      "toc_cell": false,
      "toc_position": {},
      "toc_section_display": true,
      "toc_window_display": false
    },
    "varInspector": {
      "cols": {
        "lenName": 16,
        "lenType": 16,
        "lenVar": 40
      },
      "kernels_config": {
        "python": {
          "delete_cmd_postfix": "",
          "delete_cmd_prefix": "del ",
          "library": "var_list.py",
          "varRefreshCmd": "print(var_dic_list())"
        },
        "r": {
          "delete_cmd_postfix": ") ",
          "delete_cmd_prefix": "rm(",
          "library": "var_list.r",
          "varRefreshCmd": "cat(var_dic_list()) "
        }
      },
      "types_to_exclude": [
        "module",
        "function",
        "builtin_function_or_method",
        "instance",
        "_Feature"
      ],
      "window_display": false
    },
    "colab": {
      "provenance": []
    }
  },
  "nbformat": 4,
  "nbformat_minor": 0
}